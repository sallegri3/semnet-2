{
 "cells": [
  {
   "cell_type": "markdown",
   "metadata": {},
   "source": [
    "Prototype Notebook\n",
    "Kevin McCoy"
   ]
  },
  {
   "cell_type": "code",
   "execution_count": null,
   "metadata": {},
   "outputs": [],
   "source": [
    "# For any questions regarding this notebook, please contact Kevin McCoy <kmccoy8@gatech.edu>"
   ]
  },
  {
   "cell_type": "code",
   "execution_count": null,
   "metadata": {},
   "outputs": [],
   "source": [
    "import smtplib\n",
    "from string import Template\n",
    "from email.mime.multipart import MIMEMultipart\n",
    "from email.mime.text import MIMEText\n",
    "MY_ADDRESS = 'emailnotif189382@gmail.com'#'email.notif1403@gmail.com'\n",
    "PASSWORD = 'MitchLin1'#'JacketsRule12343'\n",
    "DESTINATION = 'kmccoy8@gatech.edu'"
   ]
  },
  {
   "cell_type": "code",
   "execution_count": null,
   "metadata": {},
   "outputs": [],
   "source": [
    "def send_notif(subject, msg_text):\n",
    "    # set up the SMTP server\n",
    "    s = smtplib.SMTP(host='smtp.gmail.com', port=587)\n",
    "    s.starttls()\n",
    "    s.login(MY_ADDRESS, PASSWORD)\n",
    "    # For each contact, send the email:\n",
    "    msg = MIMEMultipart()       # create a message\n",
    "    # add in the actual person name to the message template\n",
    "    # setup the parameters of the message\n",
    "    msg['From']=MY_ADDRESS\n",
    "    msg['To']=DESTINATION\n",
    "    msg['Subject']=subject\n",
    "    # add in the message body\n",
    "    msg.attach(MIMEText(msg_text, 'plain'))\n",
    "    # send the message via the server set up earlier.\n",
    "    s.send_message(msg)\n",
    "    del msg\n",
    "    # Terminate the SMTP session and close the connection\n",
    "    s.quit()"
   ]
  },
  {
   "cell_type": "code",
   "execution_count": null,
   "metadata": {},
   "outputs": [],
   "source": [
    "send_notif(\"Success Source Definition\", \"hello world\")"
   ]
  },
  {
   "cell_type": "code",
   "execution_count": null,
   "metadata": {},
   "outputs": [],
   "source": []
  },
  {
   "cell_type": "code",
   "execution_count": null,
   "metadata": {},
   "outputs": [],
   "source": [
    "from semnet2 import offline, offline_hetesim, randomized_hetesim\n",
    "import pandas as pd"
   ]
  },
  {
   "cell_type": "code",
   "execution_count": null,
   "metadata": {},
   "outputs": [],
   "source": [
    "# Load in semnet database (should take no more than 20 seconds)\n",
    "semnet_df = pd.read_csv(\"edges_updated.csv\", index_col=0)\n"
   ]
  },
  {
   "cell_type": "code",
   "execution_count": null,
   "metadata": {},
   "outputs": [],
   "source": [
    "semnet_df.head()"
   ]
  },
  {
   "cell_type": "code",
   "execution_count": null,
   "metadata": {},
   "outputs": [],
   "source": [
    "# Lookup CUIs of interest"
   ]
  },
  {
   "cell_type": "code",
   "execution_count": null,
   "metadata": {},
   "outputs": [],
   "source": [
    "import lxml.html as lh\n",
    "from lxml.html import fromstring\n",
    "import requests\n",
    "import json\n",
    "\n",
    "uri=\"https://utslogin.nlm.nih.gov\"\n",
    "auth_endpoint = \"/cas/v1/api-key\"\n",
    "\n",
    "class Authentication:\n",
    "    \n",
    "    def __init__(self, apikey):\n",
    "        self.apikey=apikey\n",
    "        self.service=\"http://umlsks.nlm.nih.gov\"\n",
    "\n",
    "    def gettgt(self):\n",
    "        params = {'apikey': self.apikey}\n",
    "        h = {\"Content-type\": \"application/x-www-form-urlencoded\", \"Accept\": \"text/plain\", \"User-Agent\":\"python\" }\n",
    "        r = requests.post(uri+auth_endpoint,data=params,headers=h)\n",
    "        response = fromstring(r.text)\n",
    "        ## extract the entire URL needed from the HTML form (action attribute) returned - looks similar to https://utslogin.nlm.nih.gov/cas/v1/tickets/TGT-36471-aYqNLN2rFIJPXKzxwdTNC5ZT7z3B3cTAKfSc5ndHQcUxeaDOLN-cas\n",
    "        ## we make a POST call to this URL in the getst method\n",
    "        tgt = response.xpath('//form/@action')[0]\n",
    "        return tgt\n",
    "\n",
    "    def getst(self,tgt):\n",
    "        params = {'service': self.service}\n",
    "        h = {\"Content-type\": \"application/x-www-form-urlencoded\", \"Accept\": \"text/plain\", \"User-Agent\":\"python\" }\n",
    "        r = requests.post(tgt,data=params,headers=h)\n",
    "        st = r.text\n",
    "        return st\n",
    "    \n",
    "\n",
    "def get_cuis_for_concept(concept_name, page_size=1000, return_names=False):\n",
    "    '''\n",
    "    Get CUIs matching a query concept in UMLS\n",
    "    '''\n",
    "    API_KEY = '784e30e6-1938-47c6-8479-d1c9b654c704'\n",
    "    VERSION = 'current'\n",
    "    AuthClient = Authentication(API_KEY)\n",
    "\n",
    "    tgt = AuthClient.gettgt()\n",
    "    url = \"https://uts-ws.nlm.nih.gov/rest/\"\n",
    "\n",
    "    content_endpoint = f'search/{VERSION}'\n",
    "\n",
    "    query = {'ticket':AuthClient.getst(tgt), 'string':concept_name, 'pageSize':page_size}\n",
    "    \n",
    "    r = requests.get(url=url+content_endpoint, params=query)\n",
    "    r.encoding = 'utf-8'\n",
    "    items = json.loads(r.text)\n",
    "    if return_names:\n",
    "        data = [[res['ui'], res['name']] for res in items['result']['results']]\n",
    "    else:\n",
    "        data = [res['ui'] for res in items['result']['results']]\n",
    "    return data\n",
    "\n",
    "\n"
   ]
  },
  {
   "cell_type": "code",
   "execution_count": null,
   "metadata": {},
   "outputs": [],
   "source": [
    "get_cuis_for_concept(\"ejection fraction\", return_names=True)[:5]"
   ]
  },
  {
   "cell_type": "code",
   "execution_count": null,
   "metadata": {},
   "outputs": [],
   "source": []
  },
  {
   "cell_type": "code",
   "execution_count": null,
   "metadata": {},
   "outputs": [],
   "source": [
    "toy_graph = pd.DataFrame([['a','t1','b','t1','r1',1],\n",
    "                          ['a','t1','c','t2','r1',1],\n",
    "                          ['c','t2','d','t1','r1',1],\n",
    "                          ['b','t1','e','t2','r1',1],\n",
    "                          ['a','t1','e','t2','r1',1],\n",
    "                          ['c','t2','f','t2','r1',1],\n",
    "                          ['d','t1','b','t1','r2',1],\n",
    "                          ['e','t2','c','t2','r2',1],\n",
    "                          ['a','t1','f','t2','r2',1],\n",
    "                          ['f','t2','d','t1','r2',1],\n",
    "                          ['b','t1','a','t1','r2',1],\n",
    "                          ['a','t1','a','t1','r1',1]], \n",
    "                         columns=['start_node',\n",
    "                                  'start_type',\n",
    "                                  'end_node',\n",
    "                                  'end_type',\n",
    "                                  'relation',\n",
    "                                  'weight'])"
   ]
  },
  {
   "cell_type": "code",
   "execution_count": null,
   "metadata": {},
   "outputs": [],
   "source": [
    "# Do this (should take ~100s)\n",
    "edgelist = semnet_df.to_dict(orient='records')\n"
   ]
  },
  {
   "cell_type": "code",
   "execution_count": null,
   "metadata": {},
   "outputs": [],
   "source": [
    "\n",
    "import pickle \n",
    "\n",
    "infile = open(\"rel2inv.pkl\",'rb')\n",
    "rel2inv = pickle.load(infile)\n",
    "infile.close()\n"
   ]
  },
  {
   "cell_type": "code",
   "execution_count": null,
   "metadata": {},
   "outputs": [],
   "source": [
    "rel2inv"
   ]
  },
  {
   "cell_type": "code",
   "execution_count": null,
   "metadata": {},
   "outputs": [],
   "source": [
    "# (takes ~s)\n",
    "semnet_graph = offline.HetGraph(edgelist, rel2inv)"
   ]
  },
  {
   "cell_type": "code",
   "execution_count": null,
   "metadata": {},
   "outputs": [],
   "source": [
    "toy_graph.get_max_one_sided_k()"
   ]
  },
  {
   "cell_type": "code",
   "execution_count": null,
   "metadata": {},
   "outputs": [],
   "source": [
    "offline_hetesim.mean_hetesim_scores(toy_graph, [\"s\", \"a\"], \"d\", 2)"
   ]
  },
  {
   "cell_type": "code",
   "execution_count": null,
   "metadata": {},
   "outputs": [],
   "source": []
  },
  {
   "cell_type": "code",
   "execution_count": null,
   "metadata": {},
   "outputs": [],
   "source": []
  },
  {
   "cell_type": "code",
   "execution_count": null,
   "metadata": {},
   "outputs": [],
   "source": []
  },
  {
   "cell_type": "code",
   "execution_count": null,
   "metadata": {},
   "outputs": [],
   "source": [
    "output_fn = \"output_file.csv\"\n",
    "df.to_csv(output_fn)"
   ]
  }
 ],
 "metadata": {
  "interpreter": {
   "hash": "62aed7136f29c1ce03e7b854e6659f9cb67d92607d7eef69dc58204d9c43bb4f"
  },
  "kernelspec": {
   "display_name": "Python 3.9.6 64-bit ('semnet2_testing_env': conda)",
   "name": "python3"
  },
  "language_info": {
   "codemirror_mode": {
    "name": "ipython",
    "version": 3
   },
   "file_extension": ".py",
   "mimetype": "text/x-python",
   "name": "python",
   "nbconvert_exporter": "python",
   "pygments_lexer": "ipython3",
   "version": "3.9.6"
  }
 },
 "nbformat": 4,
 "nbformat_minor": 2
}
